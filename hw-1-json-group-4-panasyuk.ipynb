{
 "cells": [
  {
   "cell_type": "markdown",
   "metadata": {},
   "source": [
    "##### Открываем файл, проверяем, нет ли пустых строк"
   ]
  },
  {
   "cell_type": "code",
   "execution_count": 37,
   "metadata": {},
   "outputs": [],
   "source": [
    "import json\n",
    "\n",
    "twi_archive = []\n",
    "for line in open('hw_3_twitter.json', 'r', encoding = 'utf-8'):\n",
    "    if len(line) >1:\n",
    "        twi_archive.append(json.loads(line))"
   ]
  },
  {
   "cell_type": "markdown",
   "metadata": {},
   "source": [
    "##### 1. Считаем количество твитов"
   ]
  },
  {
   "cell_type": "markdown",
   "metadata": {},
   "source": [
    "Вариант 1. Можно проверить, не попало ли что-то со значением None"
   ]
  },
  {
   "cell_type": "code",
   "execution_count": 398,
   "metadata": {},
   "outputs": [
    {
     "name": "stdout",
     "output_type": "stream",
     "text": [
      "Количество твитов: 2556\n"
     ]
    }
   ],
   "source": [
    "a = 0\n",
    "\n",
    "for twi in twi_archive:\n",
    "    if twi is not None:\n",
    "        a += 1\n",
    "\n",
    "print('Количество твитов:', a)"
   ]
  },
  {
   "cell_type": "markdown",
   "metadata": {},
   "source": [
    "Вариант 2. Но в подготовке мы уже проверили, так что можно обойтись просто:"
   ]
  },
  {
   "cell_type": "code",
   "execution_count": 402,
   "metadata": {},
   "outputs": [
    {
     "name": "stdout",
     "output_type": "stream",
     "text": [
      "Количество твитов: 2556\n"
     ]
    }
   ],
   "source": [
    "a_1 = len(twi_archive)\n",
    "\n",
    "print('Количество твитов:', a_1)"
   ]
  },
  {
   "cell_type": "markdown",
   "metadata": {},
   "source": [
    "##### 2. Считаем количество удаленных твитов"
   ]
  },
  {
   "cell_type": "markdown",
   "metadata": {},
   "source": [
    "Вариант 1. Ищем удаленные твиты, вычитаем их из общего количества\n",
    "\n",
    "! Вопрос: чем так отличается значение 'delete', что len твита с таким ключом считается меньше 0?"
   ]
  },
  {
   "cell_type": "code",
   "execution_count": 401,
   "metadata": {},
   "outputs": [
    {
     "name": "stdout",
     "output_type": "stream",
     "text": [
      "Количество удаленных твитов: 362\n"
     ]
    }
   ],
   "source": [
    "b = 0 \n",
    "\n",
    "for twi in twi_archive:\n",
    "    if len(twi) >1:\n",
    "        b += 1\n",
    "\n",
    "print('Количество удаленных твитов:', len(twi_archive)-b)"
   ]
  },
  {
   "cell_type": "markdown",
   "metadata": {},
   "source": [
    "Вариант 2. Можно проверить каждый твит на удаленные объекты"
   ]
  },
  {
   "cell_type": "code",
   "execution_count": 404,
   "metadata": {},
   "outputs": [
    {
     "name": "stdout",
     "output_type": "stream",
     "text": [
      "Количество удаленных твитов: 362\n"
     ]
    }
   ],
   "source": [
    "c = 0 \n",
    "\n",
    "for twi in twi_archive:\n",
    "    for tweetkey in twi:\n",
    "        if tweetkey == 'delete':\n",
    "           c +=1\n",
    "\n",
    "print('Количество удаленных твитов:', c)"
   ]
  },
  {
   "cell_type": "markdown",
   "metadata": {},
   "source": [
    "##### 3. Какие языки твитов самые популярные? Топ-20"
   ]
  },
  {
   "cell_type": "markdown",
   "metadata": {},
   "source": [
    "Импортируем каунтер, проверяем, есть ли в json информация о языке, если есть, то добавляем в каунтер. Делаем счетчик, чтобы посмотреть, какой язык на каком месте."
   ]
  },
  {
   "cell_type": "code",
   "execution_count": 422,
   "metadata": {
    "scrolled": true
   },
   "outputs": [
    {
     "name": "stdout",
     "output_type": "stream",
     "text": [
      "Самые популярные языки твитов:\n",
      "\n",
      "1 - en 719\n",
      "2 - ja 438\n",
      "3 - es 173\n",
      "4 - ko 149\n",
      "5 - th 123\n",
      "6 - ar 119\n",
      "7 - und 117\n",
      "8 - in 71\n",
      "9 - pt 69\n",
      "10 - fr 35\n",
      "11 - tr 30\n",
      "12 - tl 29\n",
      "13 - hi 23\n",
      "14 - ru 15\n",
      "15 - fa 8\n",
      "16 - zh 8\n",
      "17 - ca 7\n",
      "18 - ur 6\n",
      "19 - nl 6\n",
      "20 - de 6\n"
     ]
    }
   ],
   "source": [
    "from collections import Counter\n",
    "\n",
    "lang_dict = Counter()\n",
    "\n",
    "for twi in twi_archive:\n",
    "    if twi.get('lang') is not None:\n",
    "        lang = twi['lang']\n",
    "        lang_dict[lang] += 1\n",
    "        \n",
    "z = 1   \n",
    "print('Самые популярные языки твитов:\\n')\n",
    "for lang,key in lang_dict.most_common(20):\n",
    "    print(z, '-', lang, key)\n",
    "    z += 1"
   ]
  },
  {
   "cell_type": "markdown",
   "metadata": {},
   "source": [
    "Вопрос: как здесь сделать красивее вывод? <br> 1) как избавиться от пробела в между элементами в print(a, '-')? <br> 2) как лучше сделать нумерацию элементов каунтера? не через доп. счетчик. есть ли что-то встроенное?"
   ]
  },
  {
   "cell_type": "markdown",
   "metadata": {},
   "source": [
    "##### 4. Есть ли пользователи, у которых в набор попало несколько твитов? Сколько таких пользователей?"
   ]
  },
  {
   "cell_type": "markdown",
   "metadata": {},
   "source": [
    "Проверяем, есть ли информация о пользователе. Лучше брать строку, потому что она обрабатывается быстрее, чем файл int. <br> Делаем словарь, в который записываем каждого пользователя. Если в наборе id пользователя встречается хотя бы 2 раза, он уже подходит под наше условие, мы добавляем его в счетчик, и дальнейшие вхождения в набор нам не интересны."
   ]
  },
  {
   "cell_type": "code",
   "execution_count": 407,
   "metadata": {},
   "outputs": [
    {
     "name": "stdout",
     "output_type": "stream",
     "text": [
      "Количество пользователей, чьи твиты встречаются в наборе несколько раз: 3\n"
     ]
    }
   ],
   "source": [
    "id_dict = Counter()\n",
    "e = 0\n",
    "\n",
    "for twi in twi_archive:\n",
    "    if twi.get('id_str') is not None:\n",
    "        ids = twi['id_str']\n",
    "        id_dict[ids] += 1\n",
    "        if id_dict[ids] == 2:\n",
    "            e += 1\n",
    "print('Количество пользователей, чьи твиты встречаются в наборе несколько раз:', e)        "
   ]
  },
  {
   "cell_type": "markdown",
   "metadata": {},
   "source": [
    "##### 5. Топ-20 хэштегов"
   ]
  },
  {
   "cell_type": "markdown",
   "metadata": {},
   "source": [
    "Создаем словарь. Проверяем на наличие entities, потому что именно они содержат информацию о хэштегах. Проверяем наличие хэштегов, если есть, добавляем в словарь. Выводим хэштеги (количество и номер в топе тоже, чтобы было нагляднее)."
   ]
  },
  {
   "cell_type": "code",
   "execution_count": 415,
   "metadata": {},
   "outputs": [
    {
     "name": "stdout",
     "output_type": "stream",
     "text": [
      "Самые популярные хэштеги:\n",
      "\n",
      "1 - BTS 17\n",
      "2 - 방탄소년단 13\n",
      "3 - AMAs 11\n",
      "4 - 人気投票ガチャ 8\n",
      "5 - 태형 7\n",
      "6 - 뷔 6\n",
      "7 - BTSinChicago 5\n",
      "8 - BTSLoveYourselfTour 5\n",
      "9 - 오늘의방탄 5\n",
      "10 - PledgeForSwachhBharat 5\n",
      "11 - MPN 5\n",
      "12 - PCAs 4\n",
      "13 - V 4\n",
      "14 - 시카고1회차공연 4\n",
      "15 - เป๊กผลิตโชค 4\n",
      "16 - JIMIN 4\n",
      "17 - running 3\n",
      "18 - NCT 3\n",
      "19 - 지민 3\n",
      "20 - WajahmuPlastik 3\n"
     ]
    }
   ],
   "source": [
    "tag_dict = Counter()\n",
    "\n",
    "for twi in twi_archive:\n",
    "    if twi.get('entities') is not None:\n",
    "        if twi['entities'].get('hashtags') is not None:\n",
    "            tags = twi['entities']['hashtags']\n",
    "            for tag in tags:\n",
    "                hashtag = tag['text']\n",
    "                tag_dict[hashtag] += 1\n",
    "                \n",
    "print('Самые популярные хэштеги:\\n')\n",
    "z = 1             \n",
    "for tag_dict, key in tag_dict.most_common(20):\n",
    "    print(z, '-', tag_dict, key)\n",
    "    z += 1"
   ]
  },
  {
   "cell_type": "markdown",
   "metadata": {},
   "source": [
    "##### 6. Составляем частотный словарь лексики из оригинальных твитов на английском языке"
   ]
  },
  {
   "cell_type": "code",
   "execution_count": 417,
   "metadata": {},
   "outputs": [
    {
     "name": "stdout",
     "output_type": "stream",
     "text": [
      "Частотный словарь: \n",
      "\n",
      "1 \t the \t 133\n",
      "2 \t to \t 95\n",
      "3 \t a \t 74\n",
      "4 \t and \t 68\n",
      "5 \t i \t 66\n",
      "6 \t you \t 51\n",
      "7 \t is \t 50\n",
      "8 \t of \t 50\n",
      "9 \t for \t 44\n",
      "10 \t it \t 44\n",
      "11 \t in \t 42\n",
      "12 \t that \t 34\n",
      "13 \t on \t 29\n",
      "14 \t me \t 28\n",
      "15 \t my \t 26\n",
      "16 \t be \t 23\n",
      "17 \t are \t 22\n",
      "18 \t your \t 21\n",
      "19 \t this \t 21\n",
      "20 \t but \t 21\n",
      "21 \t with \t 21\n",
      "22 \t so \t 20\n",
      "23 \t more \t 19\n",
      "24 \t have \t 19\n",
      "25 \t get \t 18\n",
      "26 \t not \t 18\n",
      "27 \t at \t 18\n",
      "28 \t just \t 16\n",
      "29 \t about \t 15\n",
      "30 \t what \t 15\n",
      "31 \t from \t 15\n",
      "32 \t all \t 13\n",
      "33 \t out \t 13\n",
      "34 \t was \t 12\n",
      "35 \t they \t 12\n",
      "36 \t one \t 12\n",
      "37 \t we \t 12\n",
      "38 \t now \t 11\n",
      "39 \t only \t 11\n",
      "40 \t or \t 10\n",
      "41 \t amp \t 10\n",
      "42 \t today \t 10\n",
      "43 \t up \t 10\n",
      "44 \t like \t 10\n",
      "45 \t hit \t 10\n",
      "46 \t he \t 10\n",
      "47 \t it's \t 10\n",
      "48 \t can \t 9\n",
      "49 \t an \t 9\n",
      "50 \t by \t 9\n"
     ]
    }
   ],
   "source": [
    "from string import punctuation # Импортируем из модуля пунктуацию. \n",
    "punct = punctuation + '\\u2026' + '「」『』' # В ней есть не все специальные знаки набора, добавляем те, что тоже встречаются.\n",
    "\n",
    "import re # Импортируем регулярные выражения\n",
    "\n",
    "en_dictionary = Counter()\n",
    "\n",
    "for twi in twi_archive:\n",
    "    if twi.get('lang') is not None: # Проверяем язык, убираем из набора ретвиты и цитаты.\n",
    "        if twi['lang'] == 'en':\n",
    "            if twi.get('retweeted_status') is None and twi.get('quoted_status') is None:\n",
    "                if twi.get('extended_tweet') is not None:\n",
    "                    txt = twi['extended_tweet'].get('full_text') # Если встречаются большие твиты с медиа-информацией, обращаемся к объекту 'full_text'. \n",
    "                else:\n",
    "                    txt = twi.get('text') #  Из твитов без медиа достаем информацию из 'text'.\n",
    "                t = re.sub('https://t.co/.+', '', txt, flags=re.M) # Чистим полученные строки от ссылок; нижние подчеркивания, которыми разделяют слова, заменяем на пробелы. Порой одна фраза отображается на нескольких строках, поэтому лучше поставить флаг Multiline, чтобы избежать ошибок.\n",
    "                tt = re.sub('_', ' ', t, flags=re.M)\n",
    "                for word in tt.lower().split(): # Разбиваем слова и попутно приводим к одному регистру.\n",
    "                    no_dots = re.sub('\\.+?', ' ', word) # Удаляем все возможные точки между словами без пробелов (burning...man), которые может пропустить метод strip.\n",
    "                    clean_word = no_dots.strip(punct) # Чистим от пунктуации и дополнительных знаков (переменная punct).\n",
    "                    if clean_word:\n",
    "                        en_dictionary[clean_word] += 1 # Очищенное слово добавляем в словарь, печатаем словарь.\n",
    "\n",
    "print ('Частотный словарь: \\n')\n",
    "z = 1             \n",
    "for en_dictionary, key in en_dictionary.most_common(50):\n",
    "    print(z, '\\t', en_dictionary, '\\t', key)\n",
    "    z += 1"
   ]
  },
  {
   "cell_type": "markdown",
   "metadata": {},
   "source": [
    "##### 7. Топ-10 авторов набора"
   ]
  },
  {
   "cell_type": "markdown",
   "metadata": {},
   "source": [
    "Проверяем, содержит ли json информацию о пользователе и его подписчиках, делаем частотный словарь."
   ]
  },
  {
   "cell_type": "code",
   "execution_count": 413,
   "metadata": {},
   "outputs": [
    {
     "name": "stdout",
     "output_type": "stream",
     "text": [
      "Самые популярные блоги: \n",
      "\n",
      "@FIL0S0FIA|2521403\n",
      "@FitnessMagazine|1491309\n",
      "@malaysiakini|1206759\n",
      "@NYTScience|1137374\n",
      "@GramaticaReal|625463\n",
      "@tgrthabertv|392472\n",
      "@TheSunFootball|383698\n",
      "@Melbourne|374222\n",
      "@Roznama_Express|318189\n",
      "@burger_boogie|311319\n"
     ]
    }
   ],
   "source": [
    "top = Counter()\n",
    "\n",
    "for twi in twi_archive:\n",
    "    if twi.get('user') is not None:\n",
    "        name = twi['user'].get('screen_name')\n",
    "        followers = twi['user'].get('followers_count')\n",
    "        top[name] = followers\n",
    "\n",
    "print('Самые популярные блоги: \\n')\n",
    "for name, key in top.most_common(10):\n",
    "    print('@' + name + '|' + str(top[name]))"
   ]
  },
  {
   "cell_type": "markdown",
   "metadata": {},
   "source": [
    "##### 8. Топ-10 источников твитов"
   ]
  },
  {
   "cell_type": "markdown",
   "metadata": {},
   "source": [
    "Проверяем, есть ли источник у твита. >Информация о клиенте заключена в< ненужное не включаем в группу. На всякий случай добавляем флаги. Добавляем клиенты в словарь, печатаем словарь."
   ]
  },
  {
   "cell_type": "code",
   "execution_count": 419,
   "metadata": {},
   "outputs": [
    {
     "name": "stdout",
     "output_type": "stream",
     "text": [
      "Самые популярные клиенты для твиттера в наборе:\n",
      "\n",
      "1 \t Twitter for iPhone\n",
      "2 \t Twitter for Android\n",
      "3 \t Twitter Web Client\n",
      "4 \t twittbot.net\n",
      "5 \t Twitter Lite\n",
      "6 \t Twitter for iPad\n",
      "7 \t TweetDeck\n",
      "8 \t Facebook\n",
      "9 \t IFTTT\n",
      "10 \t تطبيق قرآني\n"
     ]
    }
   ],
   "source": [
    "source = Counter()\n",
    "\n",
    "for twi in twi_archive:\n",
    "    if twi.get('source') is not None:\n",
    "        string = (twi['source'])\n",
    "        client = re.match('(?:.+?>)(.+)?(?:<.+?)', string, flags=re.M|re.DOTALL)\n",
    "        web_client = client.group(1)\n",
    "        source[web_client] += 1\n",
    "\n",
    "print ('Самые популярные клиенты для твиттера в наборе:\\n')\n",
    "z = 1\n",
    "for source, key in source.most_common(10):\n",
    "    print(z, '\\t', source)\n",
    "    z += 1"
   ]
  }
 ],
 "metadata": {
  "kernelspec": {
   "display_name": "Python 3",
   "language": "python",
   "name": "python3"
  },
  "language_info": {
   "codemirror_mode": {
    "name": "ipython",
    "version": 3
   },
   "file_extension": ".py",
   "mimetype": "text/x-python",
   "name": "python",
   "nbconvert_exporter": "python",
   "pygments_lexer": "ipython3",
   "version": "3.7.4"
  }
 },
 "nbformat": 4,
 "nbformat_minor": 2
}
